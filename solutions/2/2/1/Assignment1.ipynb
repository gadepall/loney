{
  "nbformat": 4,
  "nbformat_minor": 0,
  "metadata": {
    "colab": {
      "name": "Assignment1.ipynb",
      "provenance": [],
      "collapsed_sections": [],
      "authorship_tag": "ABX9TyMaEpmsqOYrLRiz2c6TSR27",
      "include_colab_link": true
    },
    "kernelspec": {
      "name": "python3",
      "display_name": "Python 3"
    },
    "language_info": {
      "name": "python"
    }
  },
  "cells": [
    {
      "cell_type": "markdown",
      "metadata": {
        "id": "view-in-github",
        "colab_type": "text"
      },
      "source": [
        "<a href=\"https://colab.research.google.com/github/ashish-hk/Assignment1/blob/main/Assignment1.ipynb\" target=\"_parent\"><img src=\"https://colab.research.google.com/assets/colab-badge.svg\" alt=\"Open In Colab\"/></a>"
      ]
    },
    {
      "cell_type": "markdown",
      "metadata": {
        "id": "kNk9kFf4oKTy"
      },
      "source": [
        "# **Assignment-1**\n",
        "\n",
        "Q. Find the areas of the triangles the coordinates of whose angular points are respectively: P(1, 3), Q( - 7, 6) and R(5, - 1)"
      ]
    },
    {
      "cell_type": "code",
      "metadata": {
        "id": "SNoJmLgwAvum"
      },
      "source": [
        "# Importing libraries\n",
        "import numpy as np\n",
        "import matplotlib.pyplot as plt\n"
      ],
      "execution_count": 16,
      "outputs": []
    },
    {
      "cell_type": "code",
      "metadata": {
        "id": "4bxGVr7DoKvH"
      },
      "source": [
        "# Array \"P\" contains coordinates of point P\n",
        "P = np.array([1,3])\n",
        "\n",
        "# Array \"Q\" contains coordinates of point Q\n",
        "Q =np.array([-7,6])\n",
        "\n",
        "# Array \"R\" contains coordinates of point R\n",
        "R= np.array([5,-1])"
      ],
      "execution_count": 17,
      "outputs": []
    },
    {
      "cell_type": "code",
      "metadata": {
        "id": "vkPWmUAMoKrH"
      },
      "source": [
        "# Defining vectors 'Q-P' and 'R-P'\n",
        "\n",
        "QP= Q-P\n",
        "RP = R-P"
      ],
      "execution_count": 18,
      "outputs": []
    },
    {
      "cell_type": "code",
      "metadata": {
        "colab": {
          "base_uri": "https://localhost:8080/"
        },
        "id": "X6UeRnr8oKhD",
        "outputId": "3da7f0be-1967-4b1e-8459-e18d0a364ebe"
      },
      "source": [
        "# Calculating Area\n",
        "Area =0.5*np.cross(QP,RP)\n",
        "\n",
        "print('Area of triangle is {:.2f} square units.'.format(Area))"
      ],
      "execution_count": 19,
      "outputs": [
        {
          "output_type": "stream",
          "name": "stdout",
          "text": [
            "Area of triangle is 10.00 square units.\n"
          ]
        }
      ]
    },
    {
      "cell_type": "code",
      "metadata": {
        "colab": {
          "base_uri": "https://localhost:8080/",
          "height": 295
        },
        "id": "oo2Ac5cDD1vI",
        "outputId": "275f0362-2c20-419e-c9a3-a21d6e48df0f"
      },
      "source": [
        "# Plotting the vectors\n",
        "\n",
        "coord = ['P','Q','R']\n",
        "\n",
        "plt.quiver([0, 0], [0, 0],[-8,  4], [ 3, -4],color=['r','b'], angles='xy', scale_units='xy', scale=1)\n",
        "plt.xlim(-10, 10)\n",
        "plt.ylim(-10, 10)\n",
        "plt.plot([-8,4],[3,-4])\n",
        "\n",
        "plt.scatter([0,-8,  4], [0, 3, -4],color='k')\n",
        "\n",
        "for i in range(3):\n",
        "  plt.text(x[i],y[i]+0.5,'{}({},{})'.format(coord[i],x[i],y[i]))\n",
        "\n",
        "# plt.text(-5,2.5,'$ \\overrightarrow{A} $')\n",
        "# plt.text(2.5,-2,'$ \\overrightarrow{B} $')\n",
        "\n",
        "plt.text(-5,2.5,'Q-P')\n",
        "plt.text(2.5,-2,'R-P')\n",
        "\n",
        "plt.title('Vector Representation')\n",
        "plt.xlabel('x')\n",
        "plt.ylabel('y')\n",
        "\n",
        "plt.grid()\n",
        "plt.show()"
      ],
      "execution_count": 20,
      "outputs": [
        {
          "output_type": "display_data",
          "data": {
            "image/png": "[encoded data removed]",
            "text/plain": [
              "<Figure size 432x288 with 1 Axes>"
            ]
          },
          "metadata": {
            "needs_background": "light"
          }
        }
      ]
    },
    {
      "cell_type": "code",
      "metadata": {
        "id": "11Rq11jrHppV"
      },
      "source": [
        ""
      ],
      "execution_count": 20,
      "outputs": []
    }
  ]
}