{
  "nbformat": 4,
  "nbformat_minor": 0,
  "metadata": {
    "colab": {
      "name": "Assignment2.ipynb",
      "provenance": [],
      "collapsed_sections": [],
      "authorship_tag": "ABX9TyMrpyObf7A7KifgQClNHYK8",
      "include_colab_link": true
    },
    "kernelspec": {
      "name": "python3",
      "display_name": "Python 3"
    },
    "language_info": {
      "name": "python"
    }
  },
  "cells": [
    {
      "cell_type": "markdown",
      "metadata": {
        "id": "view-in-github",
        "colab_type": "text"
      },
      "source": [
        "<a href=\"https://colab.research.google.com/github/ashish-hk/Assignment_2/blob/main/Assignment2.ipynb\" target=\"_parent\"><img src=\"https://colab.research.google.com/assets/colab-badge.svg\" alt=\"Open In Colab\"/></a>"
      ]
    },
    {
      "cell_type": "markdown",
      "metadata": {
        "id": "hGV8uDUD1l5G"
      },
      "source": [
        "## **Assignment-2**"
      ]
    },
    {
      "cell_type": "code",
      "metadata": {
        "id": "rKWdBa9NNeqX"
      },
      "source": [
        "import numpy as np\n",
        "import matplotlib.pyplot as plt"
      ],
      "execution_count": 3,
      "outputs": []
    },
    {
      "cell_type": "code",
      "metadata": {
        "colab": {
          "base_uri": "https://localhost:8080/",
          "height": 279
        },
        "id": "1LlywsW-K37D",
        "outputId": "8eb70bd4-0a3c-43dd-80ca-a2d9b0cd0afd"
      },
      "source": [
        "#Generating points on a circle\n",
        "def circ_gen(O,r):\n",
        "\tlen = 50\n",
        "\ttheta = np.linspace(0,2*np.pi,len)\n",
        "\tx_circ = np.zeros((2,len))\n",
        "\tx_circ[0,:] = r*np.cos(theta)\n",
        "\tx_circ[1,:] = r*np.sin(theta)\n",
        "\tx_circ = (x_circ.T + O).T\n",
        "\treturn x_circ\n",
        "\n",
        "# Centre of circle\n",
        "C= np.array([2,0])\n",
        "\n",
        "# Radius of circle\n",
        "r = 1\n",
        "\n",
        "#Actual circle\n",
        "x = circ_gen(C,r)\n",
        "\n",
        "#Plotting the circle\n",
        "plt.plot(x[0,:],x[1,:],label=\"Circle\")\n",
        "\n",
        "\n",
        "# Plotting Center of circle\n",
        "plt.plot(C[0],C[1],'mo')\n",
        "plt.text(C[0],C[1]+0.1,'C(2,0)')\n",
        "\n",
        "plt.xlabel('$x$')\n",
        "plt.ylabel('$y$')\n",
        "plt.legend(loc ='upper right')\n",
        "plt.grid() # minor\n",
        "plt.axis('equal')\n",
        "plt.show()"
      ],
      "execution_count": 4,
      "outputs": [
        {
          "output_type": "display_data",
          "data": {
            "image/png": "[encoded data removed]",
            "text/plain": [
              "<Figure size 432x288 with 1 Axes>"
            ]
          },
          "metadata": {
            "needs_background": "light"
          }
        }
      ]
    },
    {
      "cell_type": "code",
      "metadata": {
        "id": "uPVKAs3yUzct"
      },
      "source": [
        ""
      ],
      "execution_count": 4,
      "outputs": []
    },
    {
      "cell_type": "code",
      "metadata": {
        "id": "qPCom_Uedv34"
      },
      "source": [
        ""
      ],
      "execution_count": 4,
      "outputs": []
    }
  ]
}